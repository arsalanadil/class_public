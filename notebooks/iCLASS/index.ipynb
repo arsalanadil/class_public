{
 "cells": [
  {
   "cell_type": "markdown",
   "metadata": {},
   "source": [
    "##Notebooks:\n",
    "\n",
    "Solution to several exercises, good place to start:\n",
    "Link to [SolutionExercises2018](SolutionExercises2018.ipynb)\n",
    "\n",
    "Plot backround quantities such as luminosity distance:\n",
    "Link to [Solution2](Solution2.ipynb)\n",
    "\n",
    "Plot the thermodynamics quantities computed in CLASS:\n",
    "Link to [ThermodynamicsEx](ThermodynamicsEx.ipynb)\n",
    "\n",
    "Plot various transfer functions:\n",
    "Link to [Transfer](Transfer.ipynb)\n",
    "\n",
    "Computing the primordial power spectrum in CLASS:\n",
    "Link to [Primordial](Primordial.ipynb)\n",
    "\n",
    "Show the effect of lensing on the B-mode polarisation:\n",
    "Link to [Solution1b](Solution1b.ipynb)\n",
    "\n",
    "Get output of different modules:\n",
    "Link to [TestOutput](TestOutput.ipynb)\n",
    "\n",
    "Show the effect of decaying CDM, cf. [1407.2418](http://arxiv.org/abs/arXiv:1407.2418):\n",
    "Link to [decayISW_Omega_ini](decayISW_Omega_ini.ipynb) and [PlotsForDCDMtalk](PlotsForDCDMtalk.ipynb)\n",
    "\n",
    "Illustration of the instability of the Euler method:\n",
    "Link to [Euler](Euler.ipynb)\n",
    "\n",
    "Illustration of the degeneracy between Neff and n_s:\n",
    "Link to [NeffBook](NeffBook.ipynb)\n",
    "\n",
    "The small effect of the neutrino hierarchy on the matter power spectrum, cf [1104.2935](http://arxiv.org/abs/arXiv:1104.2935):\n",
    "Link to [neutrinohierarchy](neutrinohierarchy.ipynb)\n"
   ]
  },
  {
   "cell_type": "code",
   "execution_count": null,
   "metadata": {
    "collapsed": true
   },
   "outputs": [],
   "source": [
    "##Simple example of computing C_l^TT:"
   ]
  },
  {
   "cell_type": "code",
   "execution_count": 8,
   "metadata": {},
   "outputs": [
    {
     "data": {
      "text/plain": [
       "(2, 2500)"
      ]
     },
     "execution_count": 8,
     "metadata": {},
     "output_type": "execute_result"
    },
    {
     "data": {
      "image/png": "[encoded data removed]",
      "text/plain": [
       "<matplotlib.figure.Figure at 0x108687710>"
      ]
     },
     "metadata": {},
     "output_type": "display_data"
    }
   ],
   "source": [
    "%matplotlib inline\n",
    "import matplotlib\n",
    "import matplotlib.pyplot as plt\n",
    "import numpy as np\n",
    "from classy import Class\n",
    "\n",
    "cosmo = Class()\n",
    "cosmo.set({'output':'tCl'})\n",
    "cosmo.compute()\n",
    "cl = cosmo.raw_cl()\n",
    "l = cl['ell']\n",
    "\n",
    "plt.loglog(l,l*(l+1)/(2.*np.pi)*cl['tt'])\n",
    "plt.ylim([5e-11,1e-9])\n",
    "plt.xlim([2,2500])"
   ]
  },
  {
   "cell_type": "code",
   "execution_count": null,
   "metadata": {
    "collapsed": true
   },
   "outputs": [],
   "source": []
  }
 ],
 "metadata": {
  "kernelspec": {
   "display_name": "Python 2",
   "language": "python",
   "name": "python2"
  },
  "language_info": {
   "codemirror_mode": {
    "name": "ipython",
    "version": 2
   },
   "file_extension": ".py",
   "mimetype": "text/x-python",
   "name": "python",
   "nbconvert_exporter": "python",
   "pygments_lexer": "ipython2",
   "version": "2.7.13"
  }
 },
 "nbformat": 4,
 "nbformat_minor": 1
}
