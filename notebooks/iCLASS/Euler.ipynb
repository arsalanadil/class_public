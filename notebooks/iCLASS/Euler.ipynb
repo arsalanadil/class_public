{
 "cells": [
  {
   "cell_type": "code",
   "execution_count": 13,
   "metadata": {
    "collapsed": true
   },
   "outputs": [],
   "source": [
    "%matplotlib inline\n",
    "import matplotlib\n",
    "import matplotlib.pyplot as plt\n",
    "import numpy as np\n",
    "from classy import Class"
   ]
  },
  {
   "cell_type": "code",
   "execution_count": 14,
   "metadata": {
    "collapsed": true
   },
   "outputs": [],
   "source": [
    "font = {'size'   : 20, 'family':'STIXGeneral'}\n",
    "axislabelfontsize='large'\n",
    "matplotlib.rc('font', **font)\n",
    "matplotlib.mathtext.rcParams['legend.fontsize']='small'"
   ]
  },
  {
   "cell_type": "code",
   "execution_count": 15,
   "metadata": {
    "collapsed": false
   },
   "outputs": [],
   "source": [
    "def simple_derivs(t,y):\n",
    "    return (-15*y)"
   ]
  },
  {
   "cell_type": "code",
   "execution_count": 16,
   "metadata": {
    "collapsed": false
   },
   "outputs": [],
   "source": [
    "def evolver_FE(fderivs, t_ini, t_final, y_ini, h):\n",
    "    t = t_ini\n",
    "    y = y_ini\n",
    "    tvec = [t]\n",
    "    yvec = [y_ini]\n",
    "    while t<t_final:\n",
    "        y = y+fderivs(t,y)*h\n",
    "        t = t+h\n",
    "        tvec.append(t)\n",
    "        yvec.append(y)\n",
    "    return tvec,yvec"
   ]
  },
  {
   "cell_type": "code",
   "execution_count": 17,
   "metadata": {
    "collapsed": false
   },
   "outputs": [],
   "source": [
    "[T1, Y1] = evolver_FE(simple_derivs,0,1,1,1./4.)\n",
    "[T2, Y2] = evolver_FE(simple_derivs,0,1,1,1./8.)\n",
    "[T3, Y3] = evolver_FE(simple_derivs,0,1,1,1./16.)\n",
    "Te = np.linspace(0,1,100)\n",
    "Ye = np.exp(-15*Te)"
   ]
  },
  {
   "cell_type": "code",
   "execution_count": 18,
   "metadata": {
    "collapsed": false
   },
   "outputs": [
    {
     "data": {
      "image/png": "[encoded data removed]",
      "text/plain": [
       "<matplotlib.figure.Figure at 0x10880e5d0>"
      ]
     },
     "metadata": {},
     "output_type": "display_data"
    }
   ],
   "source": [
    "plt.plot(T1,Y1,T2,Y2,T3,Y3,marker=u's')\n",
    "     \n",
    "plt.ylim([-3,5])\n",
    "plt.xlabel(r'$t$')\n",
    "plt.ylabel(r'$y$')\n",
    "plt.legend([r'$h=1/4$',r'$h=1/8$',r'$h=1/16$'])\n",
    "\n",
    "plt.plot(Te,Ye,lw=2)\n",
    "\n",
    "plt.tight_layout()\n",
    "plt.savefig('forwardseuler.pdf',transparent=True)"
   ]
  },
  {
   "cell_type": "code",
   "execution_count": null,
   "metadata": {
    "collapsed": false
   },
   "outputs": [],
   "source": []
  }
 ],
 "metadata": {
  "kernelspec": {
   "display_name": "Python 2",
   "language": "python",
   "name": "python2"
  },
  "language_info": {
   "codemirror_mode": {
    "name": "ipython",
    "version": 2
   },
   "file_extension": ".py",
   "mimetype": "text/x-python",
   "name": "python",
   "nbconvert_exporter": "python",
   "pygments_lexer": "ipython2",
   "version": "2.7.10"
  }
 },
 "nbformat": 4,
 "nbformat_minor": 0
}
