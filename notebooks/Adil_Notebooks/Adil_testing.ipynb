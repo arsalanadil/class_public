{
 "cells": [
  {
   "cell_type": "code",
   "execution_count": 3,
   "metadata": {},
   "outputs": [],
   "source": [
    "from classy import Class\n",
    "import numpy as np\n",
    "import matplotlib.pyplot as plt\n",
    "%matplotlib inline"
   ]
  },
  {
   "cell_type": "code",
   "execution_count": 65,
   "metadata": {},
   "outputs": [],
   "source": [
    "cosmo3 = Class()\n",
    "params3 = {\n",
    "    'output': 'tCl lCl',\n",
    "    'l_max_scalars': 3000,\n",
    "    'lensing': 'yes',\n",
    "    'A_s': 2.3e-9,\n",
    "    'n_s': 0.9624, \n",
    "    'h': 0.67,\n",
    "    'omega_b': 0.025068}\n",
    "cosmo3.set(params3)\n",
    "cosmo3.compute()"
   ]
  },
  {
   "cell_type": "code",
   "execution_count": 66,
   "metadata": {},
   "outputs": [],
   "source": [
    "cosmo2 = Class()\n",
    "params2 = {\n",
    "    'output': 'tCl lCl',\n",
    "    'l_max_scalars': 3000,\n",
    "    'lensing': 'yes',\n",
    "    'A_s': 2.3e-9,\n",
    "    'n_s': 0.9624, \n",
    "    'h': 0.67,\n",
    "    'omega_b': 0.022068}\n",
    "cosmo2.set(params2)\n",
    "cosmo2.compute()"
   ]
  },
  {
   "cell_type": "code",
   "execution_count": 67,
   "metadata": {},
   "outputs": [],
   "source": [
    "cosmo = Class()\n",
    "params = {\n",
    "    'output': 'tCl lCl',\n",
    "    'l_max_scalars': 3000,\n",
    "    'lensing': 'yes',\n",
    "    'A_s': 2.3e-9,\n",
    "    'n_s': 0.9624, \n",
    "    'h': 0.67,\n",
    "    'omega_b': 0.020068}\n",
    "cosmo.set(params)\n",
    "cosmo.compute()"
   ]
  },
  {
   "cell_type": "code",
   "execution_count": 72,
   "metadata": {},
   "outputs": [],
   "source": [
    "l = np.array(range(2,3*10**3 + 1))\n",
    "factor = l*(l+1)/(2*np.pi)\n",
    "lensed_cl = cosmo.lensed_cl(3*10**3)\n",
    "lensed_cl2 = cosmo2.lensed_cl(3*10**3)\n",
    "lensed_cl3 = cosmo3.lensed_cl(3*10**3)\n",
    "\n",
    "\n",
    "\n",
    "#lensed_cl.viewkeys()"
   ]
  },
  {
   "cell_type": "code",
   "execution_count": 73,
   "metadata": {},
   "outputs": [
    {
     "data": {
      "application/vnd.jupyter.widget-view+json": {
       "model_id": "5f0f8d52305244e49c409be50213ed5c",
       "version_major": 2,
       "version_minor": 0
      },
      "text/plain": [
       "Canvas(toolbar=Toolbar(toolitems=[('Home', 'Reset original view', 'home', 'home'), ('Back', 'Back to previous …"
      ]
     },
     "metadata": {},
     "output_type": "display_data"
    }
   ],
   "source": [
    "%matplotlib widget\n",
    "plt.loglog(l,factor*10**(12)*lensed_cl['tt'][2:],\n",
    "           l,factor*10**(12)*lensed_cl2['tt'][2:],\n",
    "           l,factor*10**(12)*lensed_cl3['tt'][2:] )\n",
    "plt.legend(['\\Omega_b = 0.022', 'Omega_b = 0.024', 'Omega_b = 0.025'])\n",
    "plt.grid(True, which=\"both\", ls=\"-\", color='0.65')\n",
    "#plt.loglog(l,factor*10**(12)*lensed_cl['tt'][2:], l,factor*10**(12)*lensed_cl2['tt'][2:] )\n",
    "#plt.loglog(l,factor*10**(12)*lensed_cl_nonstd['tt'][2:] )"
   ]
  },
  {
   "cell_type": "code",
   "execution_count": 6,
   "metadata": {},
   "outputs": [
    {
     "data": {
      "text/plain": [
       "[<matplotlib.lines.Line2D at 0x11738f650>,\n",
       " <matplotlib.lines.Line2D at 0x11738f750>]"
      ]
     },
     "execution_count": 6,
     "metadata": {},
     "output_type": "execute_result"
    },
    {
     "data": {
      "image/png": "[encoded data removed]",
      "text/plain": [
       "<Figure size 432x288 with 1 Axes>"
      ]
     },
     "metadata": {
      "needs_background": "light"
     },
     "output_type": "display_data"
    }
   ],
   "source": [
    "zlist = np.arange(0,5000)\n",
    "plt.plot(zlist,[cosmo.Hubble(z) for z in zlist],zlist,[cosmo2.Hubble(z) for z in zlist])"
   ]
  },
  {
   "cell_type": "code",
   "execution_count": 7,
   "metadata": {},
   "outputs": [
    {
     "data": {
      "text/plain": [
       "0.35541995420479056"
      ]
     },
     "execution_count": 7,
     "metadata": {},
     "output_type": "execute_result"
    }
   ],
   "source": [
    "cosmo2.Omega_Lambda()"
   ]
  },
  {
   "cell_type": "code",
   "execution_count": 8,
   "metadata": {},
   "outputs": [
    {
     "data": {
      "text/plain": [
       "13.854659049394995"
      ]
     },
     "execution_count": 8,
     "metadata": {},
     "output_type": "execute_result"
    }
   ],
   "source": [
    "cosmo.age()"
   ]
  },
  {
   "cell_type": "code",
   "execution_count": 50,
   "metadata": {},
   "outputs": [],
   "source": [
    "zlist = np.arange(0,11000)\n",
    "np.save(\"LCDM-H-From-CLASS\", np.array([cosmo.Hubble(z) for z in zlist]))"
   ]
  },
  {
   "cell_type": "code",
   "execution_count": 49,
   "metadata": {},
   "outputs": [
    {
     "data": {
      "text/plain": [
       "[<matplotlib.lines.Line2D at 0x11a436fd0>,\n",
       " <matplotlib.lines.Line2D at 0x11a4420d0>]"
      ]
     },
     "execution_count": 49,
     "metadata": {},
     "output_type": "execute_result"
    },
    {
     "data": {
      "image/png": "[encoded data removed]",
      "text/plain": [
       "<Figure size 432x288 with 1 Axes>"
      ]
     },
     "metadata": {
      "needs_background": "light"
     },
     "output_type": "display_data"
    }
   ],
   "source": [
    "zlist = np.arange(0.001,2)\n",
    "plt.plot(zlist,[cosmo.Hubble(z) for z in zlist],zlist, [0.00022 for z in zlist])"
   ]
  },
  {
   "cell_type": "code",
   "execution_count": 9,
   "metadata": {},
   "outputs": [
    {
     "data": {
      "text/plain": [
       "dict_keys(['(.)rho_crit', 'lum. dist.', '(.)rho_b', 'H [1/Mpc]', 'conf. time [Mpc]', '(.)p_tot', 'comov.snd.hrz.', '(.)rho_g', '(.)rho_lambda', 'comov. dist.', '(.)rho_cdm', 'ang.diam.dist.', 'proper time [Gyr]', '(.)rho_tot', 'gr.fac. D', 'gr.fac. f', 'z', '(.)rho_ur', '(.)p_tot_prime'])"
      ]
     },
     "execution_count": 9,
     "metadata": {},
     "output_type": "execute_result"
    }
   ],
   "source": [
    "bgcosmo = cosmo.get_background()\n",
    "bgcosmo.viewkeys()"
   ]
  },
  {
   "cell_type": "code",
   "execution_count": 11,
   "metadata": {},
   "outputs": [],
   "source": [
    "zlist = bgcosmo['z']\n",
    "#zzlist = zlist[0:zlist.size-1]\n",
    "#aalist = 1/(zzlist +1)\n",
    "#alist = np.append(aalist,1)\n",
    "alist = 1/(zlist + 1)"
   ]
  },
  {
   "cell_type": "code",
   "execution_count": 18,
   "metadata": {},
   "outputs": [
    {
     "data": {
      "text/plain": [
       "[<matplotlib.lines.Line2D at 0x12034e510>,\n",
       " <matplotlib.lines.Line2D at 0x120380c90>,\n",
       " <matplotlib.lines.Line2D at 0x120389110>]"
      ]
     },
     "execution_count": 18,
     "metadata": {},
     "output_type": "execute_result"
    },
    {
     "data": {
      "image/png": "[encoded data removed]",
      "text/plain": [
       "<Figure size 432x288 with 1 Axes>"
      ]
     },
     "metadata": {
      "needs_background": "light"
     },
     "output_type": "display_data"
    }
   ],
   "source": [
    "plt.semilogx(alist, bgcosmo['(.)rho_lambda']/bgcosmo['(.)rho_crit'],\n",
    "             alist, (bgcosmo['(.)rho_ur']+bgcosmo['(.)rho_g'])/bgcosmo['(.)rho_crit'],\n",
    "            alist, (bgcosmo['(.)rho_cdm'] +bgcosmo['(.)rho_b'])/bgcosmo['(.)rho_crit'])"
   ]
  },
  {
   "cell_type": "code",
   "execution_count": 34,
   "metadata": {},
   "outputs": [],
   "source": [
    "cosmo.struct_cleanup()\n",
    "cosmo.empty()\n",
    "cosmo2.struct_cleanup()\n",
    "cosmo2.empty()\n",
    "cosmo3.struct_cleanup()\n",
    "cosmo2.empty()\n",
    "\n"
   ]
  },
  {
   "cell_type": "code",
   "execution_count": 9,
   "metadata": {},
   "outputs": [
    {
     "data": {
      "text/plain": [
       "0.00022348794378276187"
      ]
     },
     "execution_count": 9,
     "metadata": {},
     "output_type": "execute_result"
    }
   ],
   "source": [
    "cosmo.Hubble(0)"
   ]
  },
  {
   "cell_type": "code",
   "execution_count": null,
   "metadata": {},
   "outputs": [],
   "source": []
  }
 ],
 "metadata": {
  "kernelspec": {
   "display_name": "Python 3",
   "language": "python",
   "name": "python3"
  },
  "language_info": {
   "codemirror_mode": {
    "name": "ipython",
    "version": 3
   },
   "file_extension": ".py",
   "mimetype": "text/x-python",
   "name": "python",
   "nbconvert_exporter": "python",
   "pygments_lexer": "ipython3",
   "version": "3.7.3"
  }
 },
 "nbformat": 4,
 "nbformat_minor": 2
}
